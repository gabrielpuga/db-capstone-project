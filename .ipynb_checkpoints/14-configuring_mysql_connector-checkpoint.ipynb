{
 "cells": [
  {
   "cell_type": "code",
   "execution_count": 1,
   "id": "089e84e1-165b-4685-a962-64b69e18696e",
   "metadata": {},
   "outputs": [
    {
     "name": "stdout",
     "output_type": "stream",
     "text": [
      "Requirement already satisfied: mysql-connector-python in c:\\users\\gabriel.puga\\appdata\\local\\programs\\python\\python312\\lib\\site-packages (8.4.0)\n"
     ]
    }
   ],
   "source": [
    "!pip install mysql-connector-python"
   ]
  },
  {
   "cell_type": "code",
   "execution_count": 2,
   "id": "160f56d7-18ea-42ce-a787-f53722023760",
   "metadata": {},
   "outputs": [],
   "source": [
    "import mysql.connector as connector"
   ]
  },
  {
   "cell_type": "code",
   "execution_count": 3,
   "id": "f815c546-eb85-4740-a610-21cc3a99516d",
   "metadata": {},
   "outputs": [],
   "source": [
    "connection = connector.connect(user = \"root\", password = \"vamos123\")"
   ]
  },
  {
   "cell_type": "code",
   "execution_count": 7,
   "id": "320b6a99-cdc3-410a-9332-ea3e7663c30c",
   "metadata": {},
   "outputs": [
    {
     "data": {
      "text/plain": [
       "'littlelemondb'"
      ]
     },
     "execution_count": 7,
     "metadata": {},
     "output_type": "execute_result"
    }
   ],
   "source": [
    "cursor = connection.cursor()\n",
    "cursor.execute(\"use littlelemondb\")\n",
    "connection.database\n"
   ]
  },
  {
   "cell_type": "code",
   "execution_count": null,
   "id": "8a5c2168-3638-4e77-9748-e1c6b8064be3",
   "metadata": {},
   "outputs": [],
   "source": []
  }
 ],
 "metadata": {
  "kernelspec": {
   "display_name": "Python 3 (ipykernel)",
   "language": "python",
   "name": "python3"
  },
  "language_info": {
   "codemirror_mode": {
    "name": "ipython",
    "version": 3
   },
   "file_extension": ".py",
   "mimetype": "text/x-python",
   "name": "python",
   "nbconvert_exporter": "python",
   "pygments_lexer": "ipython3",
   "version": "3.12.3"
  }
 },
 "nbformat": 4,
 "nbformat_minor": 5
}
