{
 "cells": [
  {
   "cell_type": "code",
   "execution_count": 10,
   "id": "b1d9a1ee-e6fd-4234-bf80-be0e1849bb11",
   "metadata": {},
   "outputs": [],
   "source": [
    "# Task one"
   ]
  },
  {
   "cell_type": "code",
   "execution_count": 6,
   "id": "160f56d7-18ea-42ce-a787-f53722023760",
   "metadata": {},
   "outputs": [],
   "source": [
    "import mysql.connector as connector"
   ]
  },
  {
   "cell_type": "code",
   "execution_count": 2,
   "id": "f815c546-eb85-4740-a610-21cc3a99516d",
   "metadata": {},
   "outputs": [],
   "source": [
    "connection = connector.connect(user = \"root\", password = \"vamos123\")"
   ]
  },
  {
   "cell_type": "code",
   "execution_count": 3,
   "id": "320b6a99-cdc3-410a-9332-ea3e7663c30c",
   "metadata": {},
   "outputs": [
    {
     "data": {
      "text/plain": [
       "'littlelemondb'"
      ]
     },
     "execution_count": 3,
     "metadata": {},
     "output_type": "execute_result"
    }
   ],
   "source": [
    "cursor = connection.cursor()\n",
    "cursor.execute(\"use littlelemondb\")\n",
    "connection.database\n"
   ]
  },
  {
   "cell_type": "code",
   "execution_count": null,
   "id": "16b75941-7b57-460c-9a2f-cac73565f7f8",
   "metadata": {},
   "outputs": [],
   "source": [
    "# Task two"
   ]
  },
  {
   "cell_type": "code",
   "execution_count": 8,
   "id": "8a5c2168-3638-4e77-9748-e1c6b8064be3",
   "metadata": {},
   "outputs": [],
   "source": [
    "query = \"show tables\"\n",
    "cursor.execute(query)"
   ]
  },
  {
   "cell_type": "code",
   "execution_count": 9,
   "id": "bdf64c33-cdce-4c6c-9ab3-aeb0278a7f6e",
   "metadata": {},
   "outputs": [
    {
     "name": "stdout",
     "output_type": "stream",
     "text": [
      "('bookings',)\n",
      "('customers',)\n",
      "('deliverystatus',)\n",
      "('menu',)\n",
      "('menus_quantity_over_two',)\n",
      "('menutypes',)\n",
      "('orders',)\n",
      "('orders_over_fifty',)\n",
      "('ordersview',)\n",
      "('staffinformation',)\n"
     ]
    }
   ],
   "source": [
    "tables = cursor.fetchall()\n",
    "for table in tables:\n",
    "    print(table)"
   ]
  },
  {
   "cell_type": "code",
   "execution_count": 11,
   "id": "190d2b4b-30ca-4e41-921e-61c116b09763",
   "metadata": {},
   "outputs": [],
   "source": [
    "query = \"\"\"\n",
    "select o.order_id, c.customer_name, c.contact_details, o.total_cost \n",
    "from orders as o \n",
    "inner join customers as c \n",
    "on o.customer_id = c.customer_id \n",
    "where o.total_cost > 60;\n",
    "\"\"\""
   ]
  },
  {
   "cell_type": "code",
   "execution_count": 12,
   "id": "0013c525-ebb2-4033-aaaf-f2fd52ea45b0",
   "metadata": {},
   "outputs": [
    {
     "name": "stdout",
     "output_type": "stream",
     "text": [
      "('order_id', 'customer_name', 'contact_details', 'total_cost')\n",
      "[(1, 'Vanessa McCarthy', '757536378 | vm@mangatagallo.com', Decimal('87.00')), (6, 'Vanessa McCarthy', '757536378 | vm@mangatagallo.com', Decimal('87.00'))]\n",
      "[(1, 'Vanessa McCarthy', '757536378 | vm@mangatagallo.com', Decimal('87.00')), (6, 'Vanessa McCarthy', '757536378 | vm@mangatagallo.com', Decimal('87.00'))]\n"
     ]
    }
   ],
   "source": [
    "cursor.execute(query) \n",
    "print(cursor.column_names)\n",
    "rows = cursor.fetchall()\n",
    "for row in rows:\n",
    "    print(row)"
   ]
  },
  {
   "cell_type": "code",
   "execution_count": null,
   "id": "c17ae85f-802c-4794-a8ac-d22070649b02",
   "metadata": {},
   "outputs": [],
   "source": []
  }
 ],
 "metadata": {
  "kernelspec": {
   "display_name": "Python 3 (ipykernel)",
   "language": "python",
   "name": "python3"
  },
  "language_info": {
   "codemirror_mode": {
    "name": "ipython",
    "version": 3
   },
   "file_extension": ".py",
   "mimetype": "text/x-python",
   "name": "python",
   "nbconvert_exporter": "python",
   "pygments_lexer": "ipython3",
   "version": "3.12.3"
  }
 },
 "nbformat": 4,
 "nbformat_minor": 5
}
